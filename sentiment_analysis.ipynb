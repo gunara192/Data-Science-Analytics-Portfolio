{
 "cells": [
  {
   "cell_type": "markdown",
   "id": "23c2c03f-5e94-4622-b550-9ce9eec9d642",
   "metadata": {},
   "source": [
    "# Sentimental Analysis on yelp Reviews\n",
    "\n",
    "this project aalyzes yelp review sentiment"
   ]
  },
  {
   "cell_type": "code",
   "execution_count": 16,
   "id": "7bec9504-f082-429b-a3fc-38e18e5fe7c3",
   "metadata": {
    "id": "7bec9504-f082-429b-a3fc-38e18e5fe7c3"
   },
   "outputs": [],
   "source": [
    "import pandas as pd\n",
    "import numpy as np\n",
    "from sklearn.naive_bayes import MultinomialNB\n",
    "from sklearn.feature_extraction.text import CountVectorizer\n",
    "from sklearn.model_selection import train_test_split"
   ]
  },
  {
   "cell_type": "markdown",
   "id": "da28c124-eebf-4a70-9da7-94aa67ab7ed4",
   "metadata": {
    "id": "da28c124-eebf-4a70-9da7-94aa67ab7ed4"
   },
   "source": [
    "This performs a quick sentiment analysis based on 1000 yelp reviews.\n",
    "\n",
    "## Data Loading\n",
    "\n",
    "we load the yelp labeled review dataset.\n",
    "\n",
    "each row\n",
    "\n",
    "Original file can be found here: https://archive.ics.uci.edu/ml/datasets/Sentiment+Labelled+Sentences"
   ]
  },
  {
   "cell_type": "code",
   "execution_count": 17,
   "id": "3af22222-2bd7-47c3-a31c-d7c2d6194db9",
   "metadata": {
    "id": "3af22222-2bd7-47c3-a31c-d7c2d6194db9"
   },
   "outputs": [
    {
     "data": {
      "text/html": [
       "<div>\n",
       "<style scoped>\n",
       "    .dataframe tbody tr th:only-of-type {\n",
       "        vertical-align: middle;\n",
       "    }\n",
       "\n",
       "    .dataframe tbody tr th {\n",
       "        vertical-align: top;\n",
       "    }\n",
       "\n",
       "    .dataframe thead th {\n",
       "        text-align: right;\n",
       "    }\n",
       "</style>\n",
       "<table border=\"1\" class=\"dataframe\">\n",
       "  <thead>\n",
       "    <tr style=\"text-align: right;\">\n",
       "      <th></th>\n",
       "      <th>0</th>\n",
       "      <th>1</th>\n",
       "    </tr>\n",
       "  </thead>\n",
       "  <tbody>\n",
       "    <tr>\n",
       "      <th>0</th>\n",
       "      <td>Wow... Loved this place.</td>\n",
       "      <td>1</td>\n",
       "    </tr>\n",
       "    <tr>\n",
       "      <th>1</th>\n",
       "      <td>Crust is not good.</td>\n",
       "      <td>0</td>\n",
       "    </tr>\n",
       "    <tr>\n",
       "      <th>2</th>\n",
       "      <td>Not tasty and the texture was just nasty.</td>\n",
       "      <td>0</td>\n",
       "    </tr>\n",
       "    <tr>\n",
       "      <th>3</th>\n",
       "      <td>Stopped by during the late May bank holiday of...</td>\n",
       "      <td>1</td>\n",
       "    </tr>\n",
       "    <tr>\n",
       "      <th>4</th>\n",
       "      <td>The selection on the menu was great and so wer...</td>\n",
       "      <td>1</td>\n",
       "    </tr>\n",
       "  </tbody>\n",
       "</table>\n",
       "</div>"
      ],
      "text/plain": [
       "                                                   0  1\n",
       "0                           Wow... Loved this place.  1\n",
       "1                                 Crust is not good.  0\n",
       "2          Not tasty and the texture was just nasty.  0\n",
       "3  Stopped by during the late May bank holiday of...  1\n",
       "4  The selection on the menu was great and so wer...  1"
      ]
     },
     "execution_count": 17,
     "metadata": {},
     "output_type": "execute_result"
    }
   ],
   "source": [
    "#importing the file\n",
    "df = pd.read_csv('yelp_labelled.txt', engine='python', delimiter='\\t', header=None)\n",
    "#display first few rows\n",
    "df.head()"
   ]
  },
  {
   "cell_type": "code",
   "execution_count": 22,
   "id": "97f7f213-3819-4b0b-a297-4aa06de93a3e",
   "metadata": {
    "id": "97f7f213-3819-4b0b-a297-4aa06de93a3e",
    "outputId": "2172fde2-1064-4db2-d144-727ef8d84fab"
   },
   "outputs": [
    {
     "name": "stdout",
     "output_type": "stream",
     "text": [
      "Index([0, 1], dtype='int64')\n"
     ]
    }
   ],
   "source": [
    "\n",
    "print(df.columns)"
   ]
  },
  {
   "cell_type": "markdown",
   "id": "6d82b3f5-695e-440b-82da-3fc6c8737c90",
   "metadata": {},
   "source": [
    "## Exploratory Data analysis\n",
    "lets check class distribution to ensure our data is balanced."
   ]
  },
  {
   "cell_type": "code",
   "execution_count": 23,
   "id": "8daa151c-f6bf-4a6d-b9d2-7399bb6e5414",
   "metadata": {},
   "outputs": [
    {
     "data": {
      "image/png": "[encoded data removed]",
      "text/plain": [
       "<Figure size 640x480 with 1 Axes>"
      ]
     },
     "metadata": {},
     "output_type": "display_data"
    }
   ],
   "source": [
    "import matplotlib.pyplot as plt\n",
    "df[1].value_counts().plot(kind='bar')\n",
    "plt.title('Sentiment distribution')\n",
    "plt.xlabel('Sentiment (1=positive, 0=negative)')\n",
    "plt.ylabel('count')\n",
    "plt.show()\n"
   ]
  },
  {
   "cell_type": "markdown",
   "id": "be51114f-ba47-47ce-b3b2-2b2939474342",
   "metadata": {},
   "source": [
    "## Feature Engineering\n",
    "We convert text review into a numeric format using countvectorizer for use in the ML model."
   ]
  },
  {
   "cell_type": "code",
   "execution_count": 30,
   "id": "defa81f1-1d04-4e77-abae-3aaaecd199cd",
   "metadata": {
    "id": "defa81f1-1d04-4e77-abae-3aaaecd199cd"
   },
   "outputs": [],
   "source": [
    "\n",
    "Vectorizer = CountVectorizer()\n",
    "X =Vectorizer.fit_transform(df['review'])\n",
    "y= (df['sentiment'])\n"
   ]
  },
  {
   "cell_type": "markdown",
   "id": "a1a044c9-773f-47aa-b206-6f70512e0ebc",
   "metadata": {},
   "source": [
    "# Changing column names\n",
    "0 an 1 to review and sentiment respectively\n"
   ]
  },
  {
   "cell_type": "code",
   "execution_count": 28,
   "id": "7b7c56bd-20d1-4076-8eeb-7dd68bc4b947",
   "metadata": {},
   "outputs": [],
   "source": [
    "df.columns=['review','sentiment']"
   ]
  },
  {
   "cell_type": "markdown",
   "id": "fc22509d-271a-469d-8948-abc0cfe123fa",
   "metadata": {},
   "source": [
    "## model training and evaluation\n",
    "split the data into training and testing sets,train a multinomial naive bayes classifier and evaluate its accuracy."
   ]
  },
  {
   "cell_type": "code",
   "execution_count": 37,
   "id": "4a6f073a-c8d7-4c5b-97d6-9133e3b82d65",
   "metadata": {
    "id": "4a6f073a-c8d7-4c5b-97d6-9133e3b82d65"
   },
   "outputs": [
    {
     "name": "stdout",
     "output_type": "stream",
     "text": [
      "test accuracy:0.80\n"
     ]
    }
   ],
   "source": [
    "\n",
    "X_train, X_test, y_train, y_test = train_test_split(X, y, test_size=0.2, random_state=42)\n",
    "model= MultinomialNB()\n",
    "model.fit(X_train, y_train)\n",
    "accuracy=model.score(X_test, y_test)\n",
    "print(f\"test accuracy:{accuracy:.2f}\")"
   ]
  },
  {
   "cell_type": "markdown",
   "id": "fdd1ebc6-6eda-426f-b939-dac9a10e6b2d",
   "metadata": {},
   "source": [
    "## Results and Conclusion\n",
    "Lets visualize model performance using a confusion matrix and summarize oue findings."
   ]
  },
  {
   "cell_type": "code",
   "execution_count": 38,
   "id": "474d962f-436b-49bb-84e9-f45512d0f8a8",
   "metadata": {},
   "outputs": [
    {
     "data": {
      "image/png": "[encoded data removed]",
      "text/plain": [
       "<Figure size 640x480 with 2 Axes>"
      ]
     },
     "metadata": {},
     "output_type": "display_data"
    }
   ],
   "source": [
    "from sklearn.metrics import confusion_matrix, ConfusionMatrixDisplay\n",
    "\n",
    "y_pred = model.predict(X_test)\n",
    "cm = confusion_matrix(y_test, y_pred)\n",
    "disp = ConfusionMatrixDisplay(confusion_matrix=cm, display_labels=['Negative', 'Positive'])\n",
    "disp.plot()\n",
    "plt.show()"
   ]
  },
  {
   "cell_type": "markdown",
   "id": "716ee74a-29cb-4314-b384-d97bc00f71e5",
   "metadata": {},
   "source": [
    "### Conclusion\n",
    "\n",
    "Our Naive Bayes classifier achieves good accuracy on Yelp review sentiment classification. Future improvements could include trying advanced NLP models, data cleaning, or hyperparameter tuning.\n",
    "\n",
    "---\n",
    "\n",
    "Feel free to fork this notebook and experiment further!"
   ]
  }
 ],
 "metadata": {
  "colab": {
   "name": "sentiment_analysis.ipynb",
   "provenance": []
  },
  "kernelspec": {
   "display_name": "Python 3 (ipykernel)",
   "language": "python",
   "name": "python3"
  },
  "language_info": {
   "codemirror_mode": {
    "name": "ipython",
    "version": 3
   },
   "file_extension": ".py",
   "mimetype": "text/x-python",
   "name": "python",
   "nbconvert_exporter": "python",
   "pygments_lexer": "ipython3",
   "version": "3.13.5"
  }
 },
 "nbformat": 4,
 "nbformat_minor": 5
}
